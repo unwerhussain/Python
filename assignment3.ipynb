{
 "cells": [
  {
   "cell_type": "code",
   "execution_count": 1,
   "id": "ef66ef19",
   "metadata": {},
   "outputs": [
    {
     "name": "stdout",
     "output_type": "stream",
     "text": [
      "\n",
      "Twinkle, twinkle, little star,\n",
      "    How I wonder what you are!\n",
      "        Up above the world so high,\n",
      "        Like a diamond in the sky.\n",
      "Twinkle, twinkle, little star,\n",
      "    How I wonder what you are\n"
     ]
    }
   ],
   "source": [
    "#1.  Write a Python program to print the following string in a specific format\n",
    "text = '''\n",
    "Twinkle, twinkle, little star,\n",
    "    How I wonder what you are!\n",
    "        Up above the world so high,\n",
    "        Like a diamond in the sky.\n",
    "Twinkle, twinkle, little star,\n",
    "    How I wonder what you are'''\n",
    "print(text)"
   ]
  },
  {
   "cell_type": "code",
   "execution_count": 2,
   "id": "ddbd1f94",
   "metadata": {},
   "outputs": [
    {
     "name": "stdout",
     "output_type": "stream",
     "text": [
      "3.8.8 (default, Apr 13 2021, 15:08:03) [MSC v.1916 64 bit (AMD64)]\n"
     ]
    }
   ],
   "source": [
    "#2. Write a Python program to get the Python version you are using\n",
    "import sys\n",
    "print(sys.version)"
   ]
  },
  {
   "cell_type": "code",
   "execution_count": 17,
   "id": "1e9a7c55",
   "metadata": {},
   "outputs": [
    {
     "name": "stdout",
     "output_type": "stream",
     "text": [
      "Current date and time: \n",
      "2021-10-24 10:03:53.361221\n"
     ]
    }
   ],
   "source": [
    "#3. Write a Python program to display the current date and time.\n",
    "import datetime\n",
    "now = datetime.datetime.now()\n",
    "print(\"Current date and time: \")\n",
    "print(str(now))"
   ]
  },
  {
   "cell_type": "code",
   "execution_count": 20,
   "id": "9956a392",
   "metadata": {},
   "outputs": [
    {
     "name": "stdout",
     "output_type": "stream",
     "text": [
      "Enter Radius of a Circle to Calculate Area1\n",
      "Area of Circle is:  3.14\n"
     ]
    }
   ],
   "source": [
    "#4. Write a Python program which accepts the radius of a circle from the user and compute the area.\n",
    "area = 3.14;\n",
    "radius = float(input(\"Enter Radius of a Circle to Calculate Area\"))\n",
    "if radius <=0:\n",
    "    print(\"Radius cannot be less than or Equal to 0\")\n",
    "else:\n",
    "    print(\"Area of Circle is: \", + area * (radius**2))\n"
   ]
  },
  {
   "cell_type": "code",
   "execution_count": 27,
   "id": "40a3b377",
   "metadata": {},
   "outputs": [
    {
     "name": "stdout",
     "output_type": "stream",
     "text": [
      "Enter your first nameanwer\n",
      "Enter your last namehussain\n",
      "niassuh rewna\n"
     ]
    }
   ],
   "source": [
    "#5 Write a Python program which accepts the user's first and last name and print them in reverse order with a space between them\n",
    "firstname = input(\"Enter your first name: \")\n",
    "lastname = input(\"Enter your last name: \")\n",
    "print(lastname [::-1] +\" \"+ firstname [::-1])"
   ]
  },
  {
   "cell_type": "code",
   "execution_count": 29,
   "id": "80317087",
   "metadata": {},
   "outputs": [
    {
     "name": "stdout",
     "output_type": "stream",
     "text": [
      "Enter first number10\n",
      "Enter second number-6\n",
      "4\n"
     ]
    }
   ],
   "source": [
    "#6 Write a python program which takes two inputs from user and print them addition\n",
    "num1 = int(input(\"Enter first number: \"))\n",
    "num2 = int(input(\"Enter second number: \"))\n",
    "num3 = num1 + num2\n",
    "print(num3)"
   ]
  },
  {
   "cell_type": "code",
   "execution_count": 53,
   "id": "de124bef",
   "metadata": {},
   "outputs": [
    {
     "name": "stdout",
     "output_type": "stream",
     "text": [
      "Enter numbers of Maths Subject: 20\n",
      "Enter numbers of English Subject: 50\n",
      "Enter numbers of Urdu Subject: 25\n",
      "Enter numbers of Islamiat Subject: 35\n",
      "Enter numbers of Chemistry Subject: 29\n",
      "Fail\n"
     ]
    }
   ],
   "source": [
    "#7 Write a program which takes 5 inputs from user for different subject’s marks, total it and generate mark sheet using grades ?\n",
    "maths = int(input(\"Enter marks of Maths Subject: \"))\n",
    "eng = int(input(\"Enter marks of English Subject: \"))\n",
    "urdu = int(input(\"Enter marks of Urdu Subject: \"))\n",
    "isl = int(input(\"Enter marks of Islamiat Subject: \"))\n",
    "chem = int(input(\"Enter marks of Chemistry Subject: \"))\n",
    "total = maths + eng + urdu + isl + chem\n",
    "per = (total * 100) / 500\n",
    "if(maths < 0 or maths > 100 or eng < 0 or eng > 100 or urdu < 0 or urdu > 100 or isl < 0 or isl > 100 or chem < 0 or chem > 100):\n",
    "    print(\"Marks cannot be less than 0 or greater than 100\")\n",
    "elif per <= 100 and per >= 80:\n",
    "    print(\"A+ Grade\")\n",
    "elif per < 80 and per >= 70:\n",
    "    print(\"A Grade\")\n",
    "elif per < 70 and per >= 60:\n",
    "    print(\"B Grade\")\n",
    "elif per < 60 and per >= 50:\n",
    "    print(\"C Grade\")\n",
    "elif per < 50:\n",
    "    print(\"Fail\")"
   ]
  },
  {
   "cell_type": "code",
   "execution_count": 58,
   "id": "dc9a52e6",
   "metadata": {},
   "outputs": [
    {
     "name": "stdout",
     "output_type": "stream",
     "text": [
      "Enter any number to check Even or Odd: -2\n",
      "Provided number is Even\n"
     ]
    }
   ],
   "source": [
    "#8 Write a program which take input from user and identify that the given number is even or odd?\n",
    "num = int(input(\"Enter any number to check Even or Odd: \"))\n",
    "if(num == 0):\n",
    "    print(\"Number 0 cannot be even or Odd\")\n",
    "elif(num >=1 or num <0):\n",
    "    if(num%2 == 0):\n",
    "        print(\"Provided number is Even\")\n",
    "    else:\n",
    "        print(\"Provided number is Odd\")"
   ]
  },
  {
   "cell_type": "code",
   "execution_count": 63,
   "id": "c55e49b8",
   "metadata": {},
   "outputs": [
    {
     "name": "stdout",
     "output_type": "stream",
     "text": [
      "3\n"
     ]
    }
   ],
   "source": [
    "#9 Write a program which print the length of the list?\n",
    "fruits = [\"apple\", \"banana\", \"mango\"]\n",
    "print(len(fruits))"
   ]
  },
  {
   "cell_type": "code",
   "execution_count": 102,
   "id": "54015ac9",
   "metadata": {},
   "outputs": [
    {
     "name": "stdout",
     "output_type": "stream",
     "text": [
      "Sum of Numeric Values in List is : 60\n"
     ]
    }
   ],
   "source": [
    "#10. Write a Python program to sum all the numeric items in a list?\n",
    "myList = [\"a\",10,\"b\",20,30,\"ahan\"]\n",
    "numList = []\n",
    "total = 0\n",
    "for x in range(len(myList)):\n",
    "    if type(myList[x]) is int:\n",
    "        numList.append(myList[x])\n",
    "for x in range(len(numList)):\n",
    "    total += numList[x]\n",
    "print(\"Sum of Numeric Values in List is :\", total)\n"
   ]
  },
  {
   "cell_type": "code",
   "execution_count": 158,
   "id": "8a90192c",
   "metadata": {},
   "outputs": [
    {
     "name": "stdout",
     "output_type": "stream",
     "text": [
      "1100\n"
     ]
    }
   ],
   "source": [
    "#11. Write a Python program to get the largest number from a numeric list\n",
    "myList = [1000,500,1100,600,700,800,500]\n",
    "print(max(myList))"
   ]
  },
  {
   "cell_type": "code",
   "execution_count": 166,
   "id": "48a89986",
   "metadata": {},
   "outputs": [
    {
     "name": "stdout",
     "output_type": "stream",
     "text": [
      "1\n",
      "1\n",
      "2\n",
      "3\n",
      "3\n"
     ]
    }
   ],
   "source": [
    "#12.  Write a program that prints out all the elements of the list that are less than 5\n",
    "a = [1, 1, 2, 3, 3, 5, 8, 13, 21, 34, 55, 89]\n",
    "for x in a:\n",
    "    if x < 5:\n",
    "        print(x)\n",
    "    else:\n",
    "        break"
   ]
  },
  {
   "cell_type": "code",
   "execution_count": null,
   "id": "d1df9ecb",
   "metadata": {},
   "outputs": [],
   "source": []
  }
 ],
 "metadata": {
  "kernelspec": {
   "display_name": "Python 3",
   "language": "python",
   "name": "python3"
  },
  "language_info": {
   "codemirror_mode": {
    "name": "ipython",
    "version": 3
   },
   "file_extension": ".py",
   "mimetype": "text/x-python",
   "name": "python",
   "nbconvert_exporter": "python",
   "pygments_lexer": "ipython3",
   "version": "3.8.8"
  }
 },
 "nbformat": 4,
 "nbformat_minor": 5
}
